{
    "cells": [
        {
            "cell_type": "code",
            "execution_count": 6,
            "source": [
                "import paho.mqtt.client as mqtt\r\n",
                "mqttBroker = 'test.mosquitto.org'\r\n",
                "port = 1883\r\n",
                "keppAive = 60\r\n",
                "client = mqtt.Client()\r\n"
            ],
            "outputs": [
                {
                    "output_type": "execute_result",
                    "data": {
                        "text/plain": [
                            "0"
                        ]
                    },
                    "metadata": {},
                    "execution_count": 6
                }
            ],
            "metadata": {}
        },
        {
            "cell_type": "code",
            "execution_count": 8,
            "source": [
                "client.connect(mqttBroker,port,keppAive)\r\n",
                "client.publish(\"inTopic_test/led1\",\"on\")\r\n",
                "client.disconnect()"
            ],
            "outputs": [
                {
                    "output_type": "execute_result",
                    "data": {
                        "text/plain": [
                            "0"
                        ]
                    },
                    "metadata": {},
                    "execution_count": 8
                }
            ],
            "metadata": {}
        },
        {
            "cell_type": "code",
            "execution_count": null,
            "source": [],
            "outputs": [],
            "metadata": {}
        }
    ],
    "metadata": {
        "orig_nbformat": 4,
        "language_info": {
            "name": "python",
            "version": "3.8.5",
            "mimetype": "text/x-python",
            "codemirror_mode": {
                "name": "ipython",
                "version": 3
            },
            "pygments_lexer": "ipython3",
            "nbconvert_exporter": "python",
            "file_extension": ".py"
        },
        "kernelspec": {
            "name": "python3",
            "display_name": "Python 3.8.5 32-bit"
        },
        "interpreter": {
            "hash": "56ecc29f6236d9c123d2256eefcfacfd681dfe4c3c80344d24ac968458ec54aa"
        }
    },
    "nbformat": 4,
    "nbformat_minor": 2
}
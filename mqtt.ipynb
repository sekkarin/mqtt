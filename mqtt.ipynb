{
    "cells": [
        {
            "cell_type": "code",
            "execution_count": 5,
            "source": [
                "import paho.mqtt.client as mqtt\r\n",
                "import time \r\n",
                "\r\n",
                "mqttBroker = 'test.mosquitto.org'\r\n",
                "port = 1883\r\n",
                "keppAive = 60\r\n",
                "\r\n",
                "def on_connect (client,userdata,flags,rc):\r\n",
                "\r\n",
                "         print(\"Connect with result code\"+str(rc))\r\n",
                "         client.subscibe(\"Data_Sensor/Temperature\")\r\n",
                "\r\n",
                "def on_message(client,userdata,msg):\r\n",
                "         print(msg.totic+\":\"+str(msg.playload))\r\n",
                "def on_subscribe(mosq,obj,mid,granted_qos):\r\n",
                "         print(\"subscribe with QoS: \"+ str(granted_qos))\r\n"
            ],
            "outputs": [],
            "metadata": {}
        },
        {
            "cell_type": "code",
            "execution_count": 6,
            "source": [
                "# publish\r\n",
                "client = mqtt.Client()\r\n",
                "client.connect(mqttBroker,port,keppAive)\r\n",
                "client.publish(\"inTopic_test/led1\",\"off\")\r\n",
                "client.disconnect()"
            ],
            "outputs": [
                {
                    "output_type": "execute_result",
                    "data": {
                        "text/plain": [
                            "0"
                        ]
                    },
                    "metadata": {},
                    "execution_count": 6
                }
            ],
            "metadata": {}
        },
        {
            "cell_type": "code",
            "execution_count": 7,
            "source": [
                "# subscribe\r\n",
                "# Data_Sensor/Temperature\r\n",
                "client = mqtt.Client()\r\n",
                "client.on_connent = on_connect\r\n",
                "client.on_message = on_message\r\n",
                "client.on_subscribe = on_subscribe\r\n",
                "client.connect(mqttBroker,port,keppAive)\r\n",
                "client.loop_start()\r\n"
            ],
            "outputs": [],
            "metadata": {}
        }
    ],
    "metadata": {
        "orig_nbformat": 4,
        "language_info": {
            "name": "python",
            "version": "3.8.5",
            "mimetype": "text/x-python",
            "codemirror_mode": {
                "name": "ipython",
                "version": 3
            },
            "pygments_lexer": "ipython3",
            "nbconvert_exporter": "python",
            "file_extension": ".py"
        },
        "kernelspec": {
            "name": "python3",
            "display_name": "Python 3.8.5 32-bit"
        },
        "interpreter": {
            "hash": "56ecc29f6236d9c123d2256eefcfacfd681dfe4c3c80344d24ac968458ec54aa"
        }
    },
    "nbformat": 4,
    "nbformat_minor": 2
}